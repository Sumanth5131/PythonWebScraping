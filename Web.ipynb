{
 "cells": [
  {
   "cell_type": "code",
   "execution_count": 35,
   "id": "bb5e6ae7-c891-41e0-ae10-070fed81dc15",
   "metadata": {},
   "outputs": [],
   "source": [
    "import requests\n",
    "from bs4 import BeautifulSoup\n",
    "import pandas as pd\n",
    "from IPython.display import FileLink"
   ]
  },
  {
   "cell_type": "code",
   "execution_count": 36,
   "id": "635bb80b-2711-4df6-802c-ec1ea40366df",
   "metadata": {},
   "outputs": [
    {
     "name": "stdout",
     "output_type": "stream",
     "text": [
      "200\n"
     ]
    }
   ],
   "source": [
    "response = requests.get('https://www.bcci.tv/')\n",
    "print(response.status_code)"
   ]
  },
  {
   "cell_type": "code",
   "execution_count": 37,
   "id": "7754e7ff-ba03-461d-8877-998752d25c30",
   "metadata": {},
   "outputs": [],
   "source": [
    "soup = BeautifulSoup(html_content, 'html.parser')"
   ]
  },
  {
   "cell_type": "code",
   "execution_count": 38,
   "id": "c29278d2-44e8-4f68-a644-d1b7d460ccb7",
   "metadata": {},
   "outputs": [
    {
     "name": "stdout",
     "output_type": "stream",
     "text": [
      "[{'Headline': 'Copyrights BCCI 2023, All Rights Reserved.'}, {'Headline': 'Copyrights'}, {'Headline': 'Terms & Conditions'}, {'Headline': 'Privacy & Policy'}, {'Headline': 'Follow us on'}, {'Headline': '4th Floor, Cricket Centre \\n                        Wankhede Stadium ‘D’ Road,  Churchgate Mumbai - 400020, India.'}, {'Headline': 'Email: office@bcci.tv'}, {'Headline': 'T:+91 22 67598800'}, {'Headline': 'T:+91 22 61580300'}, {'Headline': 'Terms & Conditions | Privacy Policy'}, {'Headline': 'Copyrights BCCI 2024, All Rights Reserved.'}]\n"
     ]
    }
   ],
   "source": [
    "headlines = []\n",
    "for item in soup.find_all('p'):\n",
    "    headline = item.text.strip()\n",
    "    if headline:  \n",
    "        headlines.append({'Headline': headline})\n",
    "print(headlines)"
   ]
  },
  {
   "cell_type": "code",
   "execution_count": 39,
   "id": "e94fcfd6-0d4d-4e07-9261-3288a89fb00e",
   "metadata": {},
   "outputs": [
    {
     "name": "stdout",
     "output_type": "stream",
     "text": [
      "Data saved to bbc_headlines.csv\n"
     ]
    }
   ],
   "source": [
    "df = pd.DataFrame(headlines)\n",
    "df.to_csv('bbc_headlines.csv', index=True)\n",
    "print(\"Data saved to bbc_headlines.csv\")"
   ]
  },
  {
   "cell_type": "code",
   "execution_count": 40,
   "id": "810d6102-b52d-459c-8832-a9e3000dd051",
   "metadata": {},
   "outputs": [
    {
     "data": {
      "text/html": [
       "<a href='bbc_headlines.csv' target='_blank'>bbc_headlines.csv</a><br>"
      ],
      "text/plain": [
       "/Users/sumanthbhonkanpally/bbc_headlines.csv"
      ]
     },
     "execution_count": 40,
     "metadata": {},
     "output_type": "execute_result"
    }
   ],
   "source": [
    "FileLink('bbc_headlines.csv')"
   ]
  },
  {
   "cell_type": "code",
   "execution_count": null,
   "id": "8d420686-ff6b-4d5b-9a99-72d2836f7417",
   "metadata": {},
   "outputs": [],
   "source": []
  }
 ],
 "metadata": {
  "kernelspec": {
   "display_name": "Python 3 (ipykernel)",
   "language": "python",
   "name": "python3"
  },
  "language_info": {
   "codemirror_mode": {
    "name": "ipython",
    "version": 3
   },
   "file_extension": ".py",
   "mimetype": "text/x-python",
   "name": "python",
   "nbconvert_exporter": "python",
   "pygments_lexer": "ipython3",
   "version": "3.11.7"
  }
 },
 "nbformat": 4,
 "nbformat_minor": 5
}
